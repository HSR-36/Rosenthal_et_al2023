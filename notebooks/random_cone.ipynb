{
 "cells": [
  {
   "cell_type": "code",
   "execution_count": 1,
   "id": "74ec7f66-7dc5-4850-9bb1-353942e8c3d0",
   "metadata": {},
   "outputs": [],
   "source": [
    "# plan \n",
    "#1: create random data between max min of dataset, same length \n",
    "#2: histogramm copy code \n",
    "#3: apply code for random data \n",
    "#4: compy code for plot \n",
    "#5: plot, adjust plot\n",
    "#6: "
   ]
  },
  {
   "cell_type": "code",
   "execution_count": 1,
   "id": "9803ff94-63d6-40ec-9529-08d23941e1fe",
   "metadata": {},
   "outputs": [],
   "source": [
    "#import packages: \n",
    "import matplotlib.pyplot as plt\n"
   ]
  },
  {
   "cell_type": "code",
   "execution_count": 2,
   "id": "c0e99deb-d1d8-464f-8fdf-89f97f6cc383",
   "metadata": {},
   "outputs": [],
   "source": [
    "#1 create random data \n",
    "Sd1020_min= -145.46\n",
    "Sd1020_max= 36.16 \n",
    "Sd1020_len= 6438 \n",
    "Sd1020_mean=-15.12\n",
    "Sd1020_std=30.78\n",
    "import numpy as np\n",
    "#rd = np.random.normal(Sd1020_mean, Sd1020_std, Sd1020_len) # only press this if you are sure !!!\n",
    "#plt.hist(rd)"
   ]
  },
  {
   "cell_type": "code",
   "execution_count": null,
   "id": "ad995a7c-447d-4362-b127-6dca159de637",
   "metadata": {},
   "outputs": [],
   "source": []
  },
  {
   "cell_type": "code",
   "execution_count": 3,
   "id": "b78bebb5-c023-4568-82b7-f544f31d0751",
   "metadata": {},
   "outputs": [
    {
     "ename": "NameError",
     "evalue": "name 'rd' is not defined",
     "output_type": "error",
     "traceback": [
      "\u001b[1;31m---------------------------------------------------------------------------\u001b[0m",
      "\u001b[1;31mNameError\u001b[0m                                 Traceback (most recent call last)",
      "\u001b[1;32m<ipython-input-3-e9ecd725e450>\u001b[0m in \u001b[0;36m<module>\u001b[1;34m\u001b[0m\n\u001b[0;32m      1\u001b[0m \u001b[1;31m#safe the random dataset:\u001b[0m\u001b[1;33m\u001b[0m\u001b[1;33m\u001b[0m\u001b[1;33m\u001b[0m\u001b[0m\n\u001b[1;32m----> 2\u001b[1;33m \u001b[0mnp\u001b[0m\u001b[1;33m.\u001b[0m\u001b[0msavetxt\u001b[0m\u001b[1;33m(\u001b[0m\u001b[1;34m'andom_dataset_len_6438.txt'\u001b[0m\u001b[1;33m,\u001b[0m \u001b[0mrd\u001b[0m\u001b[1;33m)\u001b[0m\u001b[1;33m\u001b[0m\u001b[1;33m\u001b[0m\u001b[0m\n\u001b[0m\u001b[0;32m      3\u001b[0m \u001b[1;31m#\u001b[0m\u001b[1;33m\u001b[0m\u001b[1;33m\u001b[0m\u001b[1;33m\u001b[0m\u001b[0m\n",
      "\u001b[1;31mNameError\u001b[0m: name 'rd' is not defined"
     ]
    }
   ],
   "source": [
    "#safe the random dataset: \n",
    "np.savetxt('andom_dataset_len_6438.txt', rd)\n",
    "#"
   ]
  },
  {
   "cell_type": "code",
   "execution_count": 3,
   "id": "a2c2f2e0-db8f-4928-85dc-efe7a873c130",
   "metadata": {},
   "outputs": [],
   "source": [
    "import xarray as xr \n",
    "\n",
    "rd= np.loadtxt(\"andom_dataset_len_6438.txt\")"
   ]
  },
  {
   "cell_type": "code",
   "execution_count": null,
   "id": "639320f9-c74a-45d0-8d04-c3bbc43484be",
   "metadata": {},
   "outputs": [],
   "source": []
  },
  {
   "cell_type": "code",
   "execution_count": 4,
   "id": "f15e1cf3-4c4c-4d6d-95fb-67716c16ec7d",
   "metadata": {},
   "outputs": [],
   "source": [
    "# import regridded data from Sd1020\n",
    "import xarray as xr \n",
    "r20=xr.open_dataset(\"detrend/ridded_Qturb_1020.nc\")\n",
    "r23=xr.open_dataset(\"detrend/ridded_Qturb_1023.nc\")\n"
   ]
  },
  {
   "cell_type": "code",
   "execution_count": 5,
   "id": "7cdcf7f5-54f1-46bd-8ef6-ede5c8a32c49",
   "metadata": {},
   "outputs": [
    {
     "data": {
      "text/plain": [
       "(array([0., 0., 0., 0., 0., 1., 0., 0., 0., 0.]),\n",
       " array([-0.5, -0.4, -0.3, -0.2, -0.1,  0. ,  0.1,  0.2,  0.3,  0.4,  0.5]),\n",
       " <BarContainer object of 10 artists>)"
      ]
     },
     "execution_count": 5,
     "metadata": {},
     "output_type": "execute_result"
    },
    {
     "data": {
      "image/png": "[encoded data removed]",
      "text/plain": [
       "<Figure size 432x288 with 1 Axes>"
      ]
     },
     "metadata": {
      "needs_background": "light"
     },
     "output_type": "display_data"
    }
   ],
   "source": [
    "plt.hist(r20)"
   ]
  },
  {
   "cell_type": "code",
   "execution_count": 6,
   "id": "64575724-f07e-4299-92bd-7dad3bd05644",
   "metadata": {},
   "outputs": [],
   "source": [
    "## Subsampling and histogram: \n",
    "def subsamling_means(data, max_res): \n",
    "    '''\n",
    "    input:\n",
    "    data:data to subsample in array \n",
    "    max_res: maximal subsampling frequency (steps of 1 so far)\n",
    "    \n",
    "    outut: \n",
    "    all_means: means of all subsampled data sets, in list of array, where diffrent means for a sampling frequency mean diffrent starting points \n",
    "    mean: mean of all means of the data set from the same sampling frequency\n",
    "    std: std of the mean of means from same sampling frequency\n",
    "    corresponding sampling freq: range(1, max_res)\n",
    "    \n",
    "    '''\n",
    "    means=[]\n",
    "    std=[]\n",
    "    mean=[]\n",
    "    all_means=[]\n",
    "    for i in range(1, max_res):# max reampled res 25km\n",
    "        means=[]\n",
    "        for j in np.arange(0, i):\n",
    "            means.append(np.nanmean(data[j::i]))\n",
    "        #print(means)\n",
    "        all_means.append(means)\n",
    "        mean.append(np.nanmean(means))\n",
    "        std.append(np.std(means))     \n",
    "    return all_means, mean, std"
   ]
  },
  {
   "cell_type": "code",
   "execution_count": 7,
   "id": "7276e7f7-4a2a-4e59-8732-cfab82438ef6",
   "metadata": {},
   "outputs": [],
   "source": [
    "## 2: subsample random data: \n",
    "rd_sub=subsamling_means(rd, 100)\n",
    "\n",
    "mean_rd= rd_sub[0]\n",
    "#std_rd= rd_sub[1]\n",
    "#std_rd= rd_sub[2]\n",
    "\n",
    "### old error below ######\n",
    "#plt.hist(rd_sub[0][5], density=True,)"
   ]
  },
  {
   "cell_type": "code",
   "execution_count": 101,
   "id": "6dd1d429-c47c-42ab-9270-29b46867a2b5",
   "metadata": {},
   "outputs": [],
   "source": []
  },
  {
   "cell_type": "code",
   "execution_count": 8,
   "id": "aee1e36f-a0c2-4ec4-95cf-3d6283a89a9a",
   "metadata": {},
   "outputs": [],
   "source": [
    "#subsample loaded \n",
    "r20_list=list(r20['__xarray_dataarray_variable__'].values[1:])# change formate to list\n",
    "sub_20=  subsamling_means(r20_list, 100)  # subsample up tp 100km in resolution \n",
    "\n",
    "all_means_1020= sub_20[0] # only show the means from every\n",
    "\n"
   ]
  },
  {
   "cell_type": "code",
   "execution_count": 9,
   "id": "9b239a83-9a02-4d79-96e5-6d523ca6d944",
   "metadata": {},
   "outputs": [
    {
     "data": {
      "text/plain": [
       "[-15.122003413816662]"
      ]
     },
     "execution_count": 9,
     "metadata": {},
     "output_type": "execute_result"
    }
   ],
   "source": [
    "all_means_1020[0]"
   ]
  },
  {
   "cell_type": "code",
   "execution_count": 10,
   "id": "0b250928-6fa5-48c0-aa2b-4ec6c1eb9bd7",
   "metadata": {},
   "outputs": [],
   "source": [
    "p_95_20= [np.percentile(all_means_1020[i],95) for i in range(10)]\n",
    "\n",
    "#p_95_20"
   ]
  },
  {
   "cell_type": "code",
   "execution_count": 11,
   "id": "923079e9-757a-4160-b7f8-ebc54934fc67",
   "metadata": {},
   "outputs": [],
   "source": [
    "r23_list=list(r23['__xarray_dataarray_variable__'].values[1:])# change formate to list\n",
    "sub_23=  subsamling_means(r23_list, 100)  # subsample up tp 100km in resolution \n",
    "\n",
    "all_means_1023= sub_23[0] # only show the means from every"
   ]
  },
  {
   "cell_type": "code",
   "execution_count": 12,
   "id": "10af4f82-7216-494a-8d08-9d1942b5ad79",
   "metadata": {},
   "outputs": [],
   "source": [
    "#plt.plot(np.isnan(r23['__xarray_dataarray_variable__'])*1)"
   ]
  },
  {
   "cell_type": "code",
   "execution_count": 13,
   "id": "2554caa9-b386-4261-948d-a7e87b4f4462",
   "metadata": {},
   "outputs": [
    {
     "name": "stderr",
     "output_type": "stream",
     "text": [
      "C:\\Users\\Public\\Anaconda3\\lib\\site-packages\\numpy\\core\\fromnumeric.py:87: VisibleDeprecationWarning: Creating an ndarray from ragged nested sequences (which is a list-or-tuple of lists-or-tuples-or ndarrays with different lengths or shapes) is deprecated. If you meant to do this, you must specify 'dtype=object' when creating the ndarray.\n",
      "  return ufunc.reduce(obj, axis, dtype, out, **passkwargs)\n"
     ]
    },
    {
     "data": {
      "text/plain": [
       "-22.49184679445486"
      ]
     },
     "execution_count": 13,
     "metadata": {},
     "output_type": "execute_result"
    }
   ],
   "source": [
    "np.min(np.min(mean_rd))"
   ]
  },
  {
   "cell_type": "code",
   "execution_count": 18,
   "id": "5354e7c5-fe4d-459a-bfdd-268b1b3f7fb7",
   "metadata": {},
   "outputs": [
    {
     "data": {
      "image/png": "[encoded data removed]",
      "text/plain": [
       "<Figure size 432x288 with 1 Axes>"
      ]
     },
     "metadata": {
      "needs_background": "light"
     },
     "output_type": "display_data"
    }
   ],
   "source": [
    "########## try to never re-run this , takes more than 20mins###########\n",
    "\n",
    "bound20=(-146,37) # max and min of dataset sd1020\n",
    "y_rd= np.arange(bound20[0]-.0625,bound20[1]+.125+.0625,0.125)-bound20[1]/2+mean_rd[0]\n",
    "\n",
    "#bins_mean_20=[]\n",
    "#bins_mean_rd=[]\n",
    "bins_mean_23=[]\n",
    "for l in np.arange(0, 99):\n",
    "    bins_mean_23.append(plt.hist(all_means_1023[l], density=True, bins=y_rd)[0])\n",
    "    #bins_mean_20.append(plt.hist(all_means_1020[l], density=True, bins=y_rd)[0])\n",
    "    #bins_mean_rd.append(plt.hist(mean_rd[l], density=True, bins=y_rd)[0])n"
   ]
  },
  {
   "cell_type": "code",
   "execution_count": 19,
   "id": "a5ac488d-8be2-458f-a10f-7bafc321cb40",
   "metadata": {},
   "outputs": [],
   "source": [
    "# safe the bins !! So the computing won't take forever ! \n",
    "\n",
    "#np.savetxt('hist_bins_Sd1020_Qturb_-146_37_0.125.txt', bins_mean_20)\n",
    "np.savetxt('hist_bins_randomdata_-146_37_0.125.txt', bins_mean_rd)\n"
   ]
  },
  {
   "cell_type": "code",
   "execution_count": 14,
   "id": "98738962-5ed6-43a7-838b-59d49b765736",
   "metadata": {},
   "outputs": [],
   "source": [
    "# open bins from txt files: \n",
    "bins_mean_20=np.genfromtxt('hist_bins_Sd1020_Qturb_-146_37_0.125.txt')\n",
    "bins_mean_rd=np.genfromtxt('hist_bins_randomdata_-146_37_0.125.txt')\n",
    "\n",
    "bound20=(-146,37) # max and min of dataset sd1020\n",
    "y_rd= np.arange(bound20[0]-.0625,bound20[1]+.125+.0625,0.125)-bound20[1]/2+mean_rd[0]\n",
    "#bound20=(-146,37) # max and min of dataset sd1020\n",
    "#y_rd= np.arange(bound20[0]-.0625,bound20[1]+.125+.0625,0.125)-bound20[1]/2+mean_rd[0]\n",
    "\n",
    "#np.min(y_rd)"
   ]
  },
  {
   "cell_type": "code",
   "execution_count": 15,
   "id": "e006b7ae-9a5c-422b-b1c7-cad4f14a1004",
   "metadata": {},
   "outputs": [],
   "source": [
    "# percentile 95th \n",
    "p_95_20= [np.percentile(all_means_1020[i],95) for i in range(99)]\n",
    "p_5_20= [np.percentile(all_means_1020[i],5) for i in range(99)]\n"
   ]
  },
  {
   "cell_type": "code",
   "execution_count": null,
   "id": "0311c7fd-0bdd-4231-a258-9dec72d02a4f",
   "metadata": {},
   "outputs": [],
   "source": []
  },
  {
   "cell_type": "code",
   "execution_count": 16,
   "id": "a67fc35f-e46e-4573-9a7b-02dac6690259",
   "metadata": {},
   "outputs": [
    {
     "name": "stderr",
     "output_type": "stream",
     "text": [
      "<ipython-input-16-a68f9035f84c>:18: MatplotlibDeprecationWarning: Passing parameters norm and vmin/vmax simultaneously is deprecated since 3.3 and will become an error two minor releases later. Please pass vmin/vmax directly to the norm when creating it.\n",
      "  c0 = ax1.pcolor(X, Y, b_rd.transpose(), cmap=cmap, vmin= 0.1, vmax=100, norm=matplotlib.colors.LogNorm())#, snap=True)\n",
      "<ipython-input-16-a68f9035f84c>:19: MatplotlibDeprecationWarning: Passing parameters norm and vmin/vmax simultaneously is deprecated since 3.3 and will become an error two minor releases later. Please pass vmin/vmax directly to the norm when creating it.\n",
      "  c0 = ax2.pcolor(X, Y, b_20.transpose(), cmap=cmap, vmin= 0.1, vmax=100, norm=matplotlib.colors.LogNorm())#, snap=True)\n",
      "<ipython-input-16-a68f9035f84c>:20: MatplotlibDeprecationWarning: Passing parameters norm and vmin/vmax simultaneously is deprecated since 3.3 and will become an error two minor releases later. Please pass vmin/vmax directly to the norm when creating it.\n",
      "  c0 = ax3.pcolor(X, Y, b_20.transpose(), cmap=cmap, vmin= 0.1, vmax=100, norm=matplotlib.colors.LogNorm())#, snap=True)\n"
     ]
    },
    {
     "data": {
      "text/plain": [
       "<matplotlib.colorbar.Colorbar at 0x193bc4df910>"
      ]
     },
     "execution_count": 16,
     "metadata": {},
     "output_type": "execute_result"
    },
    {
     "name": "stderr",
     "output_type": "stream",
     "text": [
      "C:\\Users\\Public\\Anaconda3\\lib\\site-packages\\IPython\\core\\pylabtools.py:132: UserWarning: Calling figure.constrained_layout, but figure not setup to do constrained layout.  You either called GridSpec without the fig keyword, you are using plt.subplot, or you need to call figure or subplots with the constrained_layout=True kwarg.\n",
      "  fig.canvas.print_figure(bytes_io, **kw)\n"
     ]
    },
    {
     "data": {
      "image/png": "[encoded data removed]",
      "text/plain": [
       "<Figure size 720x720 with 4 Axes>"
      ]
     },
     "metadata": {
      "needs_background": "light"
     },
     "output_type": "display_data"
    }
   ],
   "source": [
    "# figure for random data\n",
    "import matplotlib\n",
    "import matplotlib.gridspec as gridspec\n",
    "\n",
    "b_rd = (np.array(bins_mean_rd)/8)*100\n",
    "b_20 = (np.array(bins_mean_20)/8)*100\n",
    "\n",
    "cmap = matplotlib.cm.get_cmap(\"inferno_r\", 18)\n",
    "\n",
    "fig = plt.figure(constrained_layout=True, figsize=(10, 10))\n",
    "spec = gridspec.GridSpec(ncols=1, nrows=3)#, figure=fig, height_ratios=[6/19*1, 1, 1])\n",
    "ax1 = fig.add_subplot(spec[0:1, :])\n",
    "ax2 = fig.add_subplot(spec[1:2, :])\n",
    "ax3 = fig.add_subplot(spec[2:3, :])\n",
    "\n",
    "\n",
    "X, Y = np.meshgrid(np.linspace(.5, 99.5, 100), y_rd)\n",
    "c0 = ax1.pcolor(X, Y, b_rd.transpose(), cmap=cmap, vmin= 0.1, vmax=100, norm=matplotlib.colors.LogNorm())#, snap=True)\n",
    "c0 = ax2.pcolor(X, Y, b_20.transpose(), cmap=cmap, vmin= 0.1, vmax=100, norm=matplotlib.colors.LogNorm())#, snap=True)\n",
    "c0 = ax3.pcolor(X, Y, b_20.transpose(), cmap=cmap, vmin= 0.1, vmax=100, norm=matplotlib.colors.LogNorm())#, snap=True)\n",
    "\n",
    "ax3.plot(p_95_20)\n",
    "\n",
    "ax1.set_ylim(-30, 0)\n",
    "ax2.set_ylim(-30, 0)\n",
    "ax3.set_ylim(-16, -11)\n",
    "\n",
    "\n",
    "ax1.title.set_text('random data')\n",
    "ax2.title.set_text('Sd1020')\n",
    "ax2.title.set_text('Sd1020')\n",
    "\n",
    "\n",
    "ax3.set_xlabel('Sampling scale [km]')\n",
    "ax1.set_ylabel('Mean turbulent heat flux [$W\\:m^{-2}$]')\n",
    "    \n",
    "cbar_ax = fig.add_axes([1.0, 0.64, 0.025, 0.25])\n",
    "fig.colorbar(c0, cax=cbar_ax  , label= 'Propability of mean [%]')\n",
    "#fig.savefig(\"cone_figure_randomdata.png\", bbox_inches='tight')#, transparent=True)"
   ]
  },
  {
   "cell_type": "code",
   "execution_count": 17,
   "id": "a3d086cd-9530-4b82-ba96-2ffafc87ea85",
   "metadata": {
    "tags": []
   },
   "outputs": [
    {
     "ename": "NameError",
     "evalue": "name 'regrid_Qturb_1020' is not defined",
     "output_type": "error",
     "traceback": [
      "\u001b[1;31m---------------------------------------------------------------------------\u001b[0m",
      "\u001b[1;31mNameError\u001b[0m                                 Traceback (most recent call last)",
      "\u001b[1;32m<ipython-input-17-14bfc8258806>\u001b[0m in \u001b[0;36m<module>\u001b[1;34m\u001b[0m\n\u001b[0;32m      1\u001b[0m \u001b[1;31m#example from old code to copy from:\u001b[0m\u001b[1;33m\u001b[0m\u001b[1;33m\u001b[0m\u001b[1;33m\u001b[0m\u001b[0m\n\u001b[0;32m      2\u001b[0m \u001b[1;33m\u001b[0m\u001b[0m\n\u001b[1;32m----> 3\u001b[1;33m \u001b[0msub_20\u001b[0m\u001b[1;33m=\u001b[0m  \u001b[0msubsamling_means\u001b[0m\u001b[1;33m(\u001b[0m\u001b[0mregrid_Qturb_1020\u001b[0m\u001b[1;33m,\u001b[0m \u001b[1;36m100\u001b[0m\u001b[1;33m)\u001b[0m\u001b[1;33m\u001b[0m\u001b[1;33m\u001b[0m\u001b[0m\n\u001b[0m\u001b[0;32m      4\u001b[0m \u001b[1;33m\u001b[0m\u001b[0m\n\u001b[0;32m      5\u001b[0m \u001b[0mall_means_1020\u001b[0m\u001b[1;33m=\u001b[0m \u001b[0msub_20\u001b[0m\u001b[1;33m[\u001b[0m\u001b[1;36m0\u001b[0m\u001b[1;33m]\u001b[0m\u001b[1;33m\u001b[0m\u001b[1;33m\u001b[0m\u001b[0m\n",
      "\u001b[1;31mNameError\u001b[0m: name 'regrid_Qturb_1020' is not defined"
     ]
    }
   ],
   "source": [
    "#example from old code to copy from: \n",
    "\n",
    "sub_20=  subsamling_means(regrid_Qturb_1020, 100)\n",
    "\n",
    "all_means_1020= sub_20[0]\n",
    "mean_1020= sub_20[1]\n",
    "std_1020= sub_20[2]\n",
    "\n",
    "sub_22=  subsamling_means(regrid_Qturb_1022, 100)\n",
    "\n",
    "all_means_1022= sub_22[0]\n",
    "mean_1022= sub_22[1]\n",
    "std_1022= sub_22[2]\n",
    "\n",
    "sub_23=  subsamling_means(regrid_Qturb_1023, 100)\n",
    "\n",
    "all_means_1023= sub_23[0]\n",
    "mean_1023= sub_23[1]\n",
    "std_1023= sub_23[2]\n",
    "\n",
    "std_plus_1020=[]\n",
    "std_minus_1020=[]\n",
    "std_plus_1022=[]\n",
    "std_minus_1022=[]\n",
    "std_plus_1023=[]\n",
    "std_minus_1023=[]\n",
    "for i in np.arange(0,99):\n",
    "    std_plus_1020.append(mean_1020[i]+std_1020[i])\n",
    "    std_minus_1020.append(mean_1020[i]-std_1020[i])\n",
    "    std_plus_1022.append(mean_1022[i]+std_1022[i])\n",
    "    std_minus_1022.append(mean_1022[i]-std_1022[i])\n",
    "    std_plus_1023.append(mean_1023[i]+std_1023[i])\n",
    "    std_minus_1023.append(mean_1023[i]-std_1023[i])"
   ]
  },
  {
   "cell_type": "code",
   "execution_count": 18,
   "id": "7858e485-688b-402e-b1b1-58c64339a651",
   "metadata": {},
   "outputs": [
    {
     "ename": "NameError",
     "evalue": "name 'bins_mean_zoom_20' is not defined",
     "output_type": "error",
     "traceback": [
      "\u001b[1;31m---------------------------------------------------------------------------\u001b[0m",
      "\u001b[1;31mNameError\u001b[0m                                 Traceback (most recent call last)",
      "\u001b[1;32m<ipython-input-18-959128ba8474>\u001b[0m in \u001b[0;36m<module>\u001b[1;34m\u001b[0m\n\u001b[0;32m      7\u001b[0m \u001b[1;31m#b_23= (np.array(bins_mean_23)/8)*100\u001b[0m\u001b[1;33m\u001b[0m\u001b[1;33m\u001b[0m\u001b[1;33m\u001b[0m\u001b[0m\n\u001b[0;32m      8\u001b[0m \u001b[1;33m\u001b[0m\u001b[0m\n\u001b[1;32m----> 9\u001b[1;33m \u001b[0mb_20_zoom\u001b[0m\u001b[1;33m=\u001b[0m \u001b[1;33m(\u001b[0m\u001b[0mnp\u001b[0m\u001b[1;33m.\u001b[0m\u001b[0marray\u001b[0m\u001b[1;33m(\u001b[0m\u001b[0mbins_mean_zoom_20\u001b[0m\u001b[1;33m)\u001b[0m\u001b[1;33m/\u001b[0m\u001b[1;36m8\u001b[0m\u001b[1;33m)\u001b[0m\u001b[1;33m*\u001b[0m\u001b[1;36m100\u001b[0m\u001b[1;33m\u001b[0m\u001b[1;33m\u001b[0m\u001b[0m\n\u001b[0m\u001b[0;32m     10\u001b[0m \u001b[1;31m#b_22_zoom= (np.array(bins_mean_zoom_22)/8)*100\u001b[0m\u001b[1;33m\u001b[0m\u001b[1;33m\u001b[0m\u001b[1;33m\u001b[0m\u001b[0m\n\u001b[0;32m     11\u001b[0m \u001b[1;31m#b_23_zoom= (np.array(bins_mean_zoom_23)/8)*100\u001b[0m\u001b[1;33m\u001b[0m\u001b[1;33m\u001b[0m\u001b[1;33m\u001b[0m\u001b[0m\n",
      "\u001b[1;31mNameError\u001b[0m: name 'bins_mean_zoom_20' is not defined"
     ]
    }
   ],
   "source": [
    "#### new figure: codpied figure code from other notebook \n",
    "import matplotlib\n",
    "import matplotlib.gridspec as gridspec\n",
    "\n",
    "b_20 = (np.array(bins_mean_20)/8)*100\n",
    "#b_22=(np.array(bins_mean_22)/8)*100\n",
    "#b_23= (np.array(bins_mean_23)/8)*100\n",
    "\n",
    "b_20_zoom= (np.array(bins_mean_zoom_20)/8)*100\n",
    "#b_22_zoom= (np.array(bins_mean_zoom_22)/8)*100\n",
    "#b_23_zoom= (np.array(bins_mean_zoom_23)/8)*100\n",
    "\n",
    "cmap = matplotlib.cm.get_cmap(\"inferno_r\", 18)\n",
    "\n",
    "fig = plt.figure(constrained_layout=True, figsize=(10, 10))\n",
    "spec = gridspec.GridSpec(ncols=4, nrows=3, figure=fig, height_ratios=[6/19*1, 1, 1])\n",
    "ax1 = fig.add_subplot(spec[0:1, :])\n",
    "ax2 = fig.add_subplot(spec[1:2, :])\n",
    "ax3 = fig.add_subplot(spec[2:, :2])\n",
    "ax4 = fig.add_subplot(spec[2:, 2:])\n",
    "\n",
    "ax1.spines['bottom'].set_visible(False)\n",
    "ax2.spines['top'].set_visible(False)\n",
    "ax1.tick_params(labelbottom=False) \n",
    "ax1.xaxis.tick_top()\n",
    "#ax1.set_xticks([])\n",
    "ax1.hlines(-3,0,100,linestyle='--', color= 'k')\n",
    "ax2.hlines(-18,0,100,linestyle='--', color= 'k')\n",
    "ax3.hlines((p_95_20[0]+.5625),0,100,linestyle='-', color= 'k')\n",
    "ax3.hlines((p_95_20[0]-.5625),0,100,linestyle='-', color= 'k')\n",
    "\n",
    "ax4.hlines((p_95_23[0]+.5625),0,100,linestyle='-', color= 'k')\n",
    "ax4.hlines((p_95_23[0]-.5625),0,100,linestyle='-', color= 'k')\n",
    "\n",
    "ax1.set_ylim(-3,3)\n",
    "ax2.set_ylim(-37,-18)\n",
    "axes= [ax1, ax2]\n",
    "for a in axes: \n",
    "    a.set_xlim(0,100)\n",
    "    #a.set_facecolor('k') # black background where there is no data\n",
    "\n",
    "\n",
    "axes_small=[ax3,ax4]\n",
    "for a in axes_small:\n",
    "    a.set_xlim(0,30)\n",
    "    #a.set_facecolor('k') # black background where there is no data\n",
    "X, Y = np.meshgrid(np.linspace(.5, 99.5, 100), y_alt_20)\n",
    "X3, Y3 = np.meshgrid(np.linspace(.5, 99.5, 100), y_alt_23)\n",
    "\n",
    "c_per='#0271cc'#'#4965a8'#'royalblue'#'steelblue'#'grey'\n",
    "l= 3\n",
    "\n",
    "c0 = ax1.pcolor(X, Y, b_20.transpose(), cmap=cmap, vmin= 0.1, vmax=100, norm=matplotlib.colors.LogNorm())#, snap=True)\n",
    "ax1.plot(np.linspace(1, 99, 99), p_95_20, c=c_per, linewidth=l-.5, label='95th percentile of means')\n",
    "ax1.plot(np.linspace(1, 99, 99),p_5_20, c=c_per, linewidth=l-.5, label='5th percentile of means')\n",
    "\n",
    "#c1 = ax2.pcolor(X3, Y3, b_23.transpose(), cmap=cmap, vmin= 0.1, vmax=100, norm=matplotlib.colors.LogNorm())\n",
    "c2 = ax2.pcolor(X3, Y3,b_23.transpose(), cmap=cmap, vmin= 0.1, vmax=100, norm=matplotlib.colors.LogNorm())\n",
    "ax2.plot(np.linspace(1, 99, 99), p_95_23, c=c_per, linewidth=l-.5, label='95th percentile of means')\n",
    "ax2.plot(np.linspace(1, 99, 99),p_5_23, c=c_per, linewidth=l-.5, label='5th percentile of means')\n",
    "ax2.set_yticks(np.arange(-36, -16, step=2))\n",
    "#[ax2.scatter(xaxis_23[i]+1.5, k_23[i]+0.2, marker= '*', color='w', alpha=0.5)for i in range(90)]\n",
    "\n",
    "\n",
    "c3 = ax3.pcolor(X, Y, b_20.transpose(), cmap=cmap, vmin= 0.1, vmax=100, norm=matplotlib.colors.LogNorm())\n",
    "ax3.set_ylim(-.5,1.25)\n",
    "ax3.plot(np.linspace(1, 99, 99), p_95_20, c=c_per, linewidth=l, label='95th percentile of means', alpha=0.6, zorder=1)\n",
    "ax3.plot(np.linspace(1, 99, 99),p_5_20, c=c_per, linewidth=l, label='5th percentile of means', alpha=0.6, zorder=1)\n",
    "\n",
    "\n",
    "##ax4 = fig.add_axes([0.18, 0.3, 0.2, 0.08])\n",
    "c4 = ax4.pcolor(X3, Y3, b_23.transpose(), cmap=cmap, vmin= 0.1, vmax=100, norm=matplotlib.colors.LogNorm(), snap=True)\n",
    "ax4.plot(np.linspace(1, 99, 99), p_95_23, c=c_per, linewidth=l, label='95th percentile of means', alpha=0.6, zorder=1)\n",
    "ax4.plot(np.linspace(1, 99, 99), p_5_23, c=c_per, linewidth=l, label='5th percentile of means', alpha=0.6, zorder=1)\n",
    "ax4.set_ylim(-30, -25)\n",
    "\n",
    "\n",
    "axes= [ax2, ax3, ax4]\n",
    "for a in axes:\n",
    "    a.set_xlabel('Sampling scale [km]')\n",
    "    a.set_ylabel('Mean turbulent heat flux [$W\\:m^{-2}$]')\n",
    "    #a.set_facecolor('k') # black background where there is no data\n",
    "#fig.subplots_adjust(top=1)\n",
    "#fig.colorbar(c2, ax=ax2, label= 'mean of data sets wdiffrent start points [%]')\n",
    "cbar_ax = fig.add_axes([1.01, 0.5, 0.025, 0.48])\n",
    "fig.colorbar(c0, cax=cbar_ax  , label= 'Propability of mean [%]')\n",
    "ax1.annotate('A',xy=[0, 1.05], xycoords='axes fraction', color='k', weight='bold')\n",
    "ax1.annotate('B',xy=[0.12, 0.75], xycoords='axes fraction', color='gray', weight='bold')\n",
    "ax2.annotate('C',xy=[0.12, 0.65], xycoords='axes fraction', color='gray', weight='bold')\n",
    "\n",
    "ax3.annotate('B',xy=[0, 1.05], xycoords='axes fraction', color='k', weight='bold')\n",
    "ax4.annotate('C',xy=[0, 1.05], xycoords='axes fraction', color='k', weight='bold')\n",
    "\n",
    "ax1.text(101,-2,'SD 1020\\n(summer)', rotation=90, fontsize= 12, color= 'grey')\n",
    "ax2.text(101,-29,'SD 1023\\n(winter)', rotation=90, fontsize= 12, color= 'grey')\n",
    "xaxis_20=np.linspace(1, 99, 99)\n",
    "#axis_23=np.linspace(1, 101, 100)\n",
    "co='steelblue'\n",
    "a=1\n",
    "[ax3.scatter(xaxis_20[i], star_20[i]+0.0625, marker= 'o', color=co, alpha= a, s=20, zorder=2) for i in range(30)]\n",
    "[ax4.scatter(xaxis_20[i], star_23[i]+0.0625, marker= 'o', color=co, alpha=a, s=10, zorder=2) for i in range(30)]\n",
    "\n",
    "import matplotlib.patches as patches\n",
    "from matplotlib.patches import Rectangle\n",
    "#ax3.scatter(np.linspace(1, 99, 99), star_20)\n",
    "#plt.scatter(range(99), star_23)\n",
    "\n",
    "ax2.add_patch(Rectangle((25 - .1, -25 - .1), -24.8, -5, fill=None, alpha=1, color='gray', linewidth= 2))\n",
    "ax1.add_patch(Rectangle((25 - .1, 1.25 - .1), -24.8, -1.75, fill=None, alpha=1, color='gray', linewidth= 2))\n",
    "#fig.subplots_adjust(hspace = .05)\n",
    "#fig.savefig(\"hässlich_blackf_stars_grey_blue.png\", bbox_inches='tight')#, transparent=True)"
   ]
  },
  {
   "cell_type": "code",
   "execution_count": null,
   "id": "d041ff8f-b8be-4544-ba6e-b3def77502e4",
   "metadata": {},
   "outputs": [],
   "source": []
  }
 ],
 "metadata": {
  "kernelspec": {
   "display_name": "Python 3",
   "language": "python",
   "name": "python3"
  },
  "language_info": {
   "codemirror_mode": {
    "name": "ipython",
    "version": 3
   },
   "file_extension": ".py",
   "mimetype": "text/x-python",
   "name": "python",
   "nbconvert_exporter": "python",
   "pygments_lexer": "ipython3",
   "version": "3.8.8"
  }
 },
 "nbformat": 4,
 "nbformat_minor": 5
}
