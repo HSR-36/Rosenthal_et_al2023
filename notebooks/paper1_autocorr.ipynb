{
 "cells": [
  {
   "cell_type": "code",
   "execution_count": 1,
   "id": "8be73fa6-1a92-444b-a83b-cdd6a2d8327a",
   "metadata": {},
   "outputs": [],
   "source": [
    "import pandas as pd\n",
    "#import SD_Project as SD\n",
    "import numpy as np\n",
    "import gsw\n",
    "import seawater as sw\n",
    "import xarray as xr\n",
    "#import glidertools as gt\n",
    "import datetime\n",
    "\n",
    "import matplotlib.pyplot as plt\n",
    "from pandas.plotting import register_matplotlib_converters\n",
    "register_matplotlib_converters()"
   ]
  },
  {
   "cell_type": "code",
   "execution_count": 3,
   "id": "7a69ac18-44fa-4699-8834-61f0415d9b39",
   "metadata": {},
   "outputs": [],
   "source": [
    "#open data \n",
    "regrid_Qturb_1020.to_netcdf(\"paper_plots_new/detrend/ridded_Qturb_1020b.nc\")\n",
    "r20=xr.open_dataset(\"paper_plots_new/detrend/ridded_Qturb_1020.nc\")\n",
    "#r22=xr.open_dataset(\"detrend/ridded_Qturb_1022.nc\")\n",
    "#r23=xr.open_dataset(\"detrend/ridded_Qturb_1023.nc\")"
   ]
  },
  {
   "cell_type": "code",
   "execution_count": 10,
   "id": "731101a9-9422-440f-aea2-12a0bf3ea1bc",
   "metadata": {},
   "outputs": [
    {
     "data": {
      "text/plain": [
       "<matplotlib.collections.PathCollection at 0x1eda5583640>"
      ]
     },
     "execution_count": 10,
     "metadata": {},
     "output_type": "execute_result"
    },
    {
     "data": {
      "image/png": "[encoded data removed]",
      "text/plain": [
       "<Figure size 432x288 with 1 Axes>"
      ]
     },
     "metadata": {
      "needs_background": "light"
     },
     "output_type": "display_data"
    }
   ],
   "source": [
    "plt.scatter(r20['__xarray_dataarray_variable__'][:5],r20['dist_NZ'][:5] )"
   ]
  },
  {
   "cell_type": "code",
   "execution_count": null,
   "id": "d1759979-a531-47d4-a256-8f272db8527f",
   "metadata": {},
   "outputs": [],
   "source": [
    "#NEED here: data on SD1020 distance, time, Qturb as on file \n",
    "#Same for Sd1022/23"
   ]
  }
 ],
 "metadata": {
  "kernelspec": {
   "display_name": "Python 3",
   "language": "python",
   "name": "python3"
  },
  "language_info": {
   "codemirror_mode": {
    "name": "ipython",
    "version": 3
   },
   "file_extension": ".py",
   "mimetype": "text/x-python",
   "name": "python",
   "nbconvert_exporter": "python",
   "pygments_lexer": "ipython3",
   "version": "3.8.8"
  }
 },
 "nbformat": 4,
 "nbformat_minor": 5
}
